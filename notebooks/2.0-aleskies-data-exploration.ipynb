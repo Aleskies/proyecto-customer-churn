{
 "cells": [
  {
   "cell_type": "markdown",
   "metadata": {},
   "source": [
    "# EDA"
   ]
  },
  {
   "cell_type": "markdown",
   "metadata": {},
   "source": [
    "Ya con los datos completos se procede a realizar el analisis exploratorio de la base de datos."
   ]
  },
  {
   "cell_type": "code",
   "execution_count": 1,
   "metadata": {},
   "outputs": [],
   "source": [
    "# Importacion de librerías\n",
    "import pandas as pd\n",
    "import numpy as np\n",
    "import janitor\n",
    "import matplotlib.pyplot as plt\n",
    "import seaborn as sns\n",
    "\n",
    "import os\n",
    "\n",
    "\n",
    "from sklearn.model_selection import train_test_split\n",
    "from sklearn.preprocessing import StandardScaler\n",
    "from sklearn.tree import DecisionTreeClassifier\n",
    "from sklearn.metrics import roc_auc_score, accuracy_score\n",
    "\n",
    "from sklearn.ensemble import RandomForestClassifier\n",
    "from sklearn.ensemble import RandomForestRegressor\n",
    "from sklearn.model_selection import GridSearchCV\n",
    "from sklearn.linear_model import LinearRegression\n",
    "#import lightgbm as lgb\n",
    "from sklearn.metrics import mean_absolute_error\n",
    "from sklearn.linear_model import LogisticRegression\n",
    "from sklearn.utils import shuffle\n",
    "#from xgboost import XGBClassifier\n",
    "from sklearn.neighbors import KNeighborsClassifier\n",
    "from sklearn.neural_network import MLPClassifier\n",
    "\n",
    "\n",
    "#Permite ver en los resultados todas las columnas y las filas, Grupo Marianita, Herdiz, Erick\n",
    "pd.set_option('display.max_columns', None)\n",
    "pd.set_option('display.max_rows', None)\n",
    "pd.options.display.float_format = '{:.2f}'.format\n",
    "\n",
    "import warnings\n",
    "warnings.filterwarnings('ignore')\n"
   ]
  },
  {
   "cell_type": "code",
   "execution_count": 4,
   "metadata": {},
   "outputs": [
    {
     "data": {
      "text/html": [
       "<div>\n",
       "<style scoped>\n",
       "    .dataframe tbody tr th:only-of-type {\n",
       "        vertical-align: middle;\n",
       "    }\n",
       "\n",
       "    .dataframe tbody tr th {\n",
       "        vertical-align: top;\n",
       "    }\n",
       "\n",
       "    .dataframe thead th {\n",
       "        text-align: right;\n",
       "    }\n",
       "</style>\n",
       "<table border=\"1\" class=\"dataframe\">\n",
       "  <thead>\n",
       "    <tr style=\"text-align: right;\">\n",
       "      <th></th>\n",
       "      <th>customerID</th>\n",
       "      <th>gender</th>\n",
       "      <th>SeniorCitizen</th>\n",
       "      <th>Partner</th>\n",
       "      <th>Dependents</th>\n",
       "      <th>tenure</th>\n",
       "      <th>PhoneService</th>\n",
       "      <th>MultipleLines</th>\n",
       "      <th>InternetService</th>\n",
       "      <th>OnlineSecurity</th>\n",
       "      <th>OnlineBackup</th>\n",
       "      <th>DeviceProtection</th>\n",
       "      <th>TechSupport</th>\n",
       "      <th>StreamingTV</th>\n",
       "      <th>StreamingMovies</th>\n",
       "      <th>Contract</th>\n",
       "      <th>PaperlessBilling</th>\n",
       "      <th>PaymentMethod</th>\n",
       "      <th>MonthlyCharges</th>\n",
       "      <th>TotalCharges</th>\n",
       "      <th>Churn</th>\n",
       "    </tr>\n",
       "  </thead>\n",
       "  <tbody>\n",
       "    <tr>\n",
       "      <th>0</th>\n",
       "      <td>7590-VHVEG</td>\n",
       "      <td>Female</td>\n",
       "      <td>0</td>\n",
       "      <td>Yes</td>\n",
       "      <td>No</td>\n",
       "      <td>1</td>\n",
       "      <td>No</td>\n",
       "      <td>No phone service</td>\n",
       "      <td>DSL</td>\n",
       "      <td>No</td>\n",
       "      <td>Yes</td>\n",
       "      <td>No</td>\n",
       "      <td>No</td>\n",
       "      <td>No</td>\n",
       "      <td>No</td>\n",
       "      <td>Month-to-month</td>\n",
       "      <td>Yes</td>\n",
       "      <td>Electronic check</td>\n",
       "      <td>29.85</td>\n",
       "      <td>29.85</td>\n",
       "      <td>No</td>\n",
       "    </tr>\n",
       "    <tr>\n",
       "      <th>1</th>\n",
       "      <td>5575-GNVDE</td>\n",
       "      <td>Male</td>\n",
       "      <td>0</td>\n",
       "      <td>No</td>\n",
       "      <td>No</td>\n",
       "      <td>34</td>\n",
       "      <td>Yes</td>\n",
       "      <td>No</td>\n",
       "      <td>DSL</td>\n",
       "      <td>Yes</td>\n",
       "      <td>No</td>\n",
       "      <td>Yes</td>\n",
       "      <td>No</td>\n",
       "      <td>No</td>\n",
       "      <td>No</td>\n",
       "      <td>One year</td>\n",
       "      <td>No</td>\n",
       "      <td>Mailed check</td>\n",
       "      <td>56.95</td>\n",
       "      <td>1889.50</td>\n",
       "      <td>No</td>\n",
       "    </tr>\n",
       "  </tbody>\n",
       "</table>\n",
       "</div>"
      ],
      "text/plain": [
       "   customerID  gender  SeniorCitizen Partner Dependents  tenure PhoneService  \\\n",
       "0  7590-VHVEG  Female              0     Yes         No       1           No   \n",
       "1  5575-GNVDE    Male              0      No         No      34          Yes   \n",
       "\n",
       "      MultipleLines InternetService OnlineSecurity OnlineBackup  \\\n",
       "0  No phone service             DSL             No          Yes   \n",
       "1                No             DSL            Yes           No   \n",
       "\n",
       "  DeviceProtection TechSupport StreamingTV StreamingMovies        Contract  \\\n",
       "0               No          No          No              No  Month-to-month   \n",
       "1              Yes          No          No              No        One year   \n",
       "\n",
       "  PaperlessBilling     PaymentMethod  MonthlyCharges  TotalCharges Churn  \n",
       "0              Yes  Electronic check           29.85         29.85    No  \n",
       "1               No      Mailed check           56.95       1889.50    No  "
      ]
     },
     "execution_count": 4,
     "metadata": {},
     "output_type": "execute_result"
    }
   ],
   "source": [
    "path = \"../data/interim/\"\n",
    "archivo = \"datos_completos.csv\"\n",
    "\n",
    "data = pd.read_csv(os.path.join(path,archivo),sep=',')\n",
    "data.head(2)"
   ]
  },
  {
   "cell_type": "code",
   "execution_count": 5,
   "metadata": {},
   "outputs": [
    {
     "data": {
      "text/plain": [
       "(7032, 21)"
      ]
     },
     "execution_count": 5,
     "metadata": {},
     "output_type": "execute_result"
    }
   ],
   "source": [
    "df = data.clean_names()\n",
    "df.shape"
   ]
  },
  {
   "cell_type": "code",
   "execution_count": 6,
   "metadata": {},
   "outputs": [
    {
     "data": {
      "text/plain": [
       "Index(['customerid', 'gender', 'seniorcitizen', 'partner', 'dependents',\n",
       "       'tenure', 'phoneservice', 'multiplelines', 'internetservice',\n",
       "       'onlinesecurity', 'onlinebackup', 'deviceprotection', 'techsupport',\n",
       "       'streamingtv', 'streamingmovies', 'contract', 'paperlessbilling',\n",
       "       'paymentmethod', 'monthlycharges', 'totalcharges', 'churn'],\n",
       "      dtype='object')"
      ]
     },
     "execution_count": 6,
     "metadata": {},
     "output_type": "execute_result"
    }
   ],
   "source": [
    "df.columns"
   ]
  },
  {
   "cell_type": "code",
   "execution_count": 7,
   "metadata": {},
   "outputs": [
    {
     "name": "stdout",
     "output_type": "stream",
     "text": [
      "<class 'pandas.core.frame.DataFrame'>\n",
      "RangeIndex: 7032 entries, 0 to 7031\n",
      "Data columns (total 21 columns):\n",
      " #   Column            Non-Null Count  Dtype  \n",
      "---  ------            --------------  -----  \n",
      " 0   customerid        7032 non-null   object \n",
      " 1   gender            7032 non-null   object \n",
      " 2   seniorcitizen     7032 non-null   int64  \n",
      " 3   partner           7032 non-null   object \n",
      " 4   dependents        7032 non-null   object \n",
      " 5   tenure            7032 non-null   int64  \n",
      " 6   phoneservice      7032 non-null   object \n",
      " 7   multiplelines     7032 non-null   object \n",
      " 8   internetservice   7032 non-null   object \n",
      " 9   onlinesecurity    7032 non-null   object \n",
      " 10  onlinebackup      7032 non-null   object \n",
      " 11  deviceprotection  7032 non-null   object \n",
      " 12  techsupport       7032 non-null   object \n",
      " 13  streamingtv       7032 non-null   object \n",
      " 14  streamingmovies   7032 non-null   object \n",
      " 15  contract          7032 non-null   object \n",
      " 16  paperlessbilling  7032 non-null   object \n",
      " 17  paymentmethod     7032 non-null   object \n",
      " 18  monthlycharges    7032 non-null   float64\n",
      " 19  totalcharges      7032 non-null   float64\n",
      " 20  churn             7032 non-null   object \n",
      "dtypes: float64(2), int64(2), object(17)\n",
      "memory usage: 1.1+ MB\n"
     ]
    }
   ],
   "source": [
    "df.info()"
   ]
  },
  {
   "cell_type": "markdown",
   "metadata": {},
   "source": [
    "### 1° Variable Objetivo churn\n",
    "\n",
    "Cambiaremos los valores de la variable Churn a los valores 1 y 0.\n",
    "Utilizar la función replace() con un diccionario de mapeo"
   ]
  },
  {
   "cell_type": "code",
   "execution_count": 9,
   "metadata": {},
   "outputs": [],
   "source": [
    "# 1° Cambiaremos los valores de la variable Churn a los valores 1 y 0\n",
    "# Utilizar la función replace() con un diccionario de mapeo\n",
    "\n",
    "df['churn'] = df['churn'].replace({'Yes': 1, 'No': 0})"
   ]
  },
  {
   "cell_type": "code",
   "execution_count": 10,
   "metadata": {},
   "outputs": [
    {
     "data": {
      "text/plain": [
       "churn\n",
       "0    5163\n",
       "1    1869\n",
       "Name: count, dtype: int64"
      ]
     },
     "execution_count": 10,
     "metadata": {},
     "output_type": "execute_result"
    }
   ],
   "source": [
    "# diatribución de varible Churn\n",
    "df['churn'].value_counts()"
   ]
  },
  {
   "cell_type": "code",
   "execution_count": 12,
   "metadata": {},
   "outputs": [
    {
     "name": "stdout",
     "output_type": "stream",
     "text": [
      "Distribución del variable churn\n"
     ]
    },
    {
     "data": {
      "text/plain": [
       "churn\n",
       "0   73.42\n",
       "1   26.58\n",
       "Name: proportion, dtype: float64"
      ]
     },
     "execution_count": 12,
     "metadata": {},
     "output_type": "execute_result"
    }
   ],
   "source": [
    "print('Distribución del variable churn')\n",
    "df['churn'].value_counts('%')*100"
   ]
  },
  {
   "cell_type": "markdown",
   "metadata": {},
   "source": [
    "Representación Gráfica de variable objetivo 'churn'"
   ]
  },
  {
   "cell_type": "code",
   "execution_count": 14,
   "metadata": {},
   "outputs": [
    {
     "data": {
      "image/png": "[encoded data removed]",
      "text/plain": [
       "<Figure size 400x300 with 1 Axes>"
      ]
     },
     "metadata": {},
     "output_type": "display_data"
    }
   ],
   "source": [
    "# Gráfico de la variable Churn\n",
    "plt.figure(figsize=(4, 3))\n",
    "\n",
    "churn_values = df['churn'].value_counts()\n",
    "churn_values.values\n",
    "\n",
    "plt.bar(churn_values.index, churn_values.values, color=['skyblue', 'salmon'], label = churn_values.index)\n",
    "# Configurar etiquetas y título\n",
    "plt.xlabel('Churn')\n",
    "plt.ylabel('Frecuencia')\n",
    "plt.title('Distribución de Churn')\n",
    "plt.legend(churn_values.index)\n",
    "# Mostrar el gráfico\n",
    "plt.show()"
   ]
  },
  {
   "cell_type": "markdown",
   "metadata": {},
   "source": [
    "### 2° Variables numéricas"
   ]
  },
  {
   "cell_type": "code",
   "execution_count": 17,
   "metadata": {},
   "outputs": [
    {
     "data": {
      "text/plain": [
       "['seniorcitizen', 'tenure', 'monthlycharges', 'totalcharges', 'churn']"
      ]
     },
     "execution_count": 17,
     "metadata": {},
     "output_type": "execute_result"
    }
   ],
   "source": [
    "var_numericas = list(df.select_dtypes(include='number'))\n",
    "var_numericas"
   ]
  },
  {
   "cell_type": "markdown",
   "metadata": {},
   "source": [
    "A la función habitual de python describe(), se adjunta el coeficiente de variación CV y porcentaje de valores nulos en el resumen."
   ]
  },
  {
   "cell_type": "code",
   "execution_count": 20,
   "metadata": {},
   "outputs": [],
   "source": [
    "#funcion describe con CV\n",
    "def describe_con_CV(df, columnas_numericas):\n",
    "    \"\"\"Incluye Porc. Nulos y CV a resumen describe\n",
    "\n",
    "    Args:\n",
    "        df: dataframe\n",
    "        columnas_numericas\n",
    "    \n",
    "    Return:\n",
    "        describe con Porc. nulos y CV\n",
    "    \"\"\"\n",
    "    df_describe = df[columnas_numericas].describe()\n",
    "    #Porcentaje de valores nulos\n",
    "    porcentaje_nulos = df[columnas_numericas].isnull().mean()*100\n",
    "    porcentaje_nulos.name = 'Porc_nulos'\n",
    "\n",
    "    # Calcular el coeficiente de variación (CV)\n",
    "    # CV = (Desviación estándar / Media)\n",
    "    cv = (df[columnas_numericas].std() / df[columnas_numericas].mean()) * 100\n",
    "    cv.name = 'coef_var'\n",
    "\n",
    "    # Convertir las métricas calculadas en DataFrames\n",
    "    porcentaje_nulos_df = pd.DataFrame(porcentaje_nulos).T\n",
    "    cv_df = pd.DataFrame(cv).T\n",
    "\n",
    "    # Concatenar el resumen original con las nuevas filas\n",
    "    describe_nuevo = pd.concat([df_describe, porcentaje_nulos_df, cv_df])\n",
    "    return describe_nuevo\n"
   ]
  },
  {
   "cell_type": "code",
   "execution_count": 22,
   "metadata": {},
   "outputs": [
    {
     "data": {
      "text/html": [
       "<div>\n",
       "<style scoped>\n",
       "    .dataframe tbody tr th:only-of-type {\n",
       "        vertical-align: middle;\n",
       "    }\n",
       "\n",
       "    .dataframe tbody tr th {\n",
       "        vertical-align: top;\n",
       "    }\n",
       "\n",
       "    .dataframe thead th {\n",
       "        text-align: right;\n",
       "    }\n",
       "</style>\n",
       "<table border=\"1\" class=\"dataframe\">\n",
       "  <thead>\n",
       "    <tr style=\"text-align: right;\">\n",
       "      <th></th>\n",
       "      <th>seniorcitizen</th>\n",
       "      <th>tenure</th>\n",
       "      <th>monthlycharges</th>\n",
       "      <th>totalcharges</th>\n",
       "      <th>churn</th>\n",
       "    </tr>\n",
       "  </thead>\n",
       "  <tbody>\n",
       "    <tr>\n",
       "      <th>count</th>\n",
       "      <td>7032.00</td>\n",
       "      <td>7032.00</td>\n",
       "      <td>7032.00</td>\n",
       "      <td>7032.00</td>\n",
       "      <td>7032.00</td>\n",
       "    </tr>\n",
       "    <tr>\n",
       "      <th>mean</th>\n",
       "      <td>0.16</td>\n",
       "      <td>32.42</td>\n",
       "      <td>64.80</td>\n",
       "      <td>2283.30</td>\n",
       "      <td>0.27</td>\n",
       "    </tr>\n",
       "    <tr>\n",
       "      <th>std</th>\n",
       "      <td>0.37</td>\n",
       "      <td>24.55</td>\n",
       "      <td>30.09</td>\n",
       "      <td>2266.77</td>\n",
       "      <td>0.44</td>\n",
       "    </tr>\n",
       "    <tr>\n",
       "      <th>min</th>\n",
       "      <td>0.00</td>\n",
       "      <td>1.00</td>\n",
       "      <td>18.25</td>\n",
       "      <td>18.80</td>\n",
       "      <td>0.00</td>\n",
       "    </tr>\n",
       "    <tr>\n",
       "      <th>25%</th>\n",
       "      <td>0.00</td>\n",
       "      <td>9.00</td>\n",
       "      <td>35.59</td>\n",
       "      <td>401.45</td>\n",
       "      <td>0.00</td>\n",
       "    </tr>\n",
       "    <tr>\n",
       "      <th>50%</th>\n",
       "      <td>0.00</td>\n",
       "      <td>29.00</td>\n",
       "      <td>70.35</td>\n",
       "      <td>1397.47</td>\n",
       "      <td>0.00</td>\n",
       "    </tr>\n",
       "    <tr>\n",
       "      <th>75%</th>\n",
       "      <td>0.00</td>\n",
       "      <td>55.00</td>\n",
       "      <td>89.86</td>\n",
       "      <td>3794.74</td>\n",
       "      <td>1.00</td>\n",
       "    </tr>\n",
       "    <tr>\n",
       "      <th>max</th>\n",
       "      <td>1.00</td>\n",
       "      <td>72.00</td>\n",
       "      <td>118.75</td>\n",
       "      <td>8684.80</td>\n",
       "      <td>1.00</td>\n",
       "    </tr>\n",
       "    <tr>\n",
       "      <th>Porc_nulos</th>\n",
       "      <td>0.00</td>\n",
       "      <td>0.00</td>\n",
       "      <td>0.00</td>\n",
       "      <td>0.00</td>\n",
       "      <td>0.00</td>\n",
       "    </tr>\n",
       "    <tr>\n",
       "      <th>coef_var</th>\n",
       "      <td>227.12</td>\n",
       "      <td>75.71</td>\n",
       "      <td>46.43</td>\n",
       "      <td>99.28</td>\n",
       "      <td>166.22</td>\n",
       "    </tr>\n",
       "  </tbody>\n",
       "</table>\n",
       "</div>"
      ],
      "text/plain": [
       "            seniorcitizen  tenure  monthlycharges  totalcharges   churn\n",
       "count             7032.00 7032.00         7032.00       7032.00 7032.00\n",
       "mean                 0.16   32.42           64.80       2283.30    0.27\n",
       "std                  0.37   24.55           30.09       2266.77    0.44\n",
       "min                  0.00    1.00           18.25         18.80    0.00\n",
       "25%                  0.00    9.00           35.59        401.45    0.00\n",
       "50%                  0.00   29.00           70.35       1397.47    0.00\n",
       "75%                  0.00   55.00           89.86       3794.74    1.00\n",
       "max                  1.00   72.00          118.75       8684.80    1.00\n",
       "Porc_nulos           0.00    0.00            0.00          0.00    0.00\n",
       "coef_var           227.12   75.71           46.43         99.28  166.22"
      ]
     },
     "execution_count": 22,
     "metadata": {},
     "output_type": "execute_result"
    }
   ],
   "source": [
    "describe_nuevo = describe_con_CV(df, var_numericas)\n",
    "describe_nuevo"
   ]
  },
  {
   "cell_type": "code",
   "execution_count": 23,
   "metadata": {},
   "outputs": [],
   "source": [
    "def describe_con_CV(df, columnas_numericas):\n",
    "    \"\"\"Incluye Porc. Nulos, CV, curtosis y asimetría al resumen describe\n",
    "\n",
    "    Args:\n",
    "        df: dataframe\n",
    "        columnas_numericas: lista de nombres de columnas numéricas\n",
    "\n",
    "    Return:\n",
    "        describe con Porc. nulos, CV, curtosis y asimetría\n",
    "    \"\"\"\n",
    "    # Calcular el resumen describe\n",
    "    df_describe = df[columnas_numericas].describe()\n",
    "\n",
    "    # Porcentaje de valores nulos\n",
    "    porcentaje_nulos = df[columnas_numericas].isnull().mean() * 100\n",
    "    porcentaje_nulos.name = 'Porc_nulos'\n",
    "\n",
    "    # Calcular el coeficiente de variación (CV)\n",
    "    # CV = (Desviación estándar / Media) * 100\n",
    "    cv = (df[columnas_numericas].std() / df[columnas_numericas].mean()) * 100\n",
    "    cv.name = 'coef_var'\n",
    "\n",
    "    # Calcular la curtosis\n",
    "    curtosis = df[columnas_numericas].kurtosis()\n",
    "    curtosis.name = 'curtosis'\n",
    "\n",
    "    # Calcular la asimetría\n",
    "    asimetria = df[columnas_numericas].skew()\n",
    "    asimetria.name = 'asimetria'\n",
    "\n",
    "    # Convertir las métricas calculadas en DataFrames\n",
    "    porcentaje_nulos_df = pd.DataFrame(porcentaje_nulos).T\n",
    "    cv_df = pd.DataFrame(cv).T\n",
    "    curtosis_df = pd.DataFrame(curtosis).T\n",
    "    asimetria_df = pd.DataFrame(asimetria).T\n",
    "\n",
    "    # Concatenar el resumen original con las nuevas filas\n",
    "    describe_nuevo = pd.concat([df_describe, porcentaje_nulos_df, cv_df, curtosis_df, asimetria_df])\n",
    "\n",
    "    return describe_nuevo\n",
    "\n"
   ]
  },
  {
   "cell_type": "code",
   "execution_count": 24,
   "metadata": {},
   "outputs": [
    {
     "name": "stdout",
     "output_type": "stream",
     "text": [
      "            seniorcitizen  tenure  monthlycharges  totalcharges   churn\n",
      "count             7032.00 7032.00         7032.00       7032.00 7032.00\n",
      "mean                 0.16   32.42           64.80       2283.30    0.27\n",
      "std                  0.37   24.55           30.09       2266.77    0.44\n",
      "min                  0.00    1.00           18.25         18.80    0.00\n",
      "25%                  0.00    9.00           35.59        401.45    0.00\n",
      "50%                  0.00   29.00           70.35       1397.47    0.00\n",
      "75%                  0.00   55.00           89.86       3794.74    1.00\n",
      "max                  1.00   72.00          118.75       8684.80    1.00\n",
      "Porc_nulos           0.00    0.00            0.00          0.00    0.00\n",
      "coef_var           227.12   75.71           46.43         99.28  166.22\n",
      "curtosis             1.35   -1.39           -1.26         -0.23   -0.88\n",
      "asimetria            1.83    0.24           -0.22          0.96    1.06\n"
     ]
    }
   ],
   "source": [
    "\n",
    "resumen_describe = describe_con_CV(df, var_numericas)\n",
    "print(resumen_describe)\n"
   ]
  },
  {
   "cell_type": "markdown",
   "metadata": {},
   "source": [
    "Interpretación\n",
    "\n",
    "Asimetría:\n",
    "\n",
    "Positiva: Cola larga a la derecha. (Ej. ingresos altos de pocos individuos)\n",
    "\n",
    "Negativa: Cola larga a la izquierda. (Ej. edades de jubilación temprana de pocos individuos)\n",
    "\n",
    "Cero: Distribución simétrica. (Ej. alturas en una población)\n",
    "\n",
    "Curtosis:\n",
    "\n",
    "Positiva: Colas pesadas, pico alto y estrecho. (Ej. retornos de inversión)\n",
    "\n",
    "Negativa: Colas ligeras, distribución plana. (Ej. notas de exámenes)\n",
    "\n",
    "Cero: Distribución normal. (Ej. alturas en una población)\n"
   ]
  },
  {
   "cell_type": "markdown",
   "metadata": {},
   "source": [
    "### Representaciones gráficas de las variables numéricas"
   ]
  },
  {
   "cell_type": "code",
   "execution_count": 26,
   "metadata": {},
   "outputs": [
    {
     "data": {
      "text/plain": [
       "['seniorcitizen', 'tenure', 'monthlycharges', 'totalcharges', 'churn']"
      ]
     },
     "execution_count": 26,
     "metadata": {},
     "output_type": "execute_result"
    }
   ],
   "source": [
    "var_numericas"
   ]
  },
  {
   "cell_type": "code",
   "execution_count": 27,
   "metadata": {},
   "outputs": [
    {
     "data": {
      "image/png": "[encoded data removed]",
      "text/plain": [
       "<Figure size 400x300 with 1 Axes>"
      ]
     },
     "metadata": {},
     "output_type": "display_data"
    }
   ],
   "source": [
    "variable = 'seniorcitizen'\n",
    "# Configurar el estilo y el tamaño del gráfico\n",
    "sns.set(style=\"whitegrid\")\n",
    "plt.figure(figsize=(4, 3))\n",
    "\n",
    "sns.histplot(df[variable],  )\n",
    "plt.title(f'Barplot {variable}')\n",
    "plt.xlabel(variable)\n",
    "plt.ylabel('Count')\n",
    "plt.legend(title='')\n",
    "\n",
    "plt.show()"
   ]
  },
  {
   "cell_type": "code",
   "execution_count": 28,
   "metadata": {},
   "outputs": [
    {
     "data": {
      "image/png": "[encoded data removed]",
      "text/plain": [
       "<Figure size 1000x400 with 2 Axes>"
      ]
     },
     "metadata": {},
     "output_type": "display_data"
    }
   ],
   "source": [
    "variable = 'tenure'\n",
    "#target = 'Churn' # debe ser categorica \n",
    "# Configurar el estilo y el tamaño del gráfico\n",
    "sns.set(style=\"whitegrid\")\n",
    "# Crear una figura con dos subgráficos (histograma y boxplot)\n",
    "plt.figure(figsize=(10, 4))\n",
    "\n",
    "plt.subplot(1, 2, 1)\n",
    "sns.histplot(df[variable], kde=True) #hue=target \n",
    "plt.title(f'Histograma {variable}')\n",
    "plt.xlabel(variable)\n",
    "plt.ylabel('Count')\n",
    "plt.legend(title='')\n",
    "\n",
    "# Subgráfico 2: Boxplot\n",
    "plt.subplot(1, 2, 2)\n",
    "sns.boxplot(data=df, x=variable) #, y=\"class\") #, x='Churn'\n",
    "plt.title(f'Boxplot de {variable}')\n",
    "plt.xlabel(f'{variable}')\n",
    "plt.ylabel('')\n",
    "\n",
    "# Mostrar los gráficos\n",
    "plt.tight_layout()\n",
    "plt.show()"
   ]
  },
  {
   "cell_type": "code",
   "execution_count": 29,
   "metadata": {},
   "outputs": [
    {
     "data": {
      "image/png": "[encoded data removed]",
      "text/plain": [
       "<Figure size 1000x400 with 2 Axes>"
      ]
     },
     "metadata": {},
     "output_type": "display_data"
    }
   ],
   "source": [
    "variable = 'monthlycharges'\n",
    "#target = 'Churn' # debe ser categorica \n",
    "\n",
    "# Configurar el estilo y el tamaño del gráfico\n",
    "sns.set(style=\"whitegrid\")\n",
    "# Crear una figura con dos subgráficos (histograma y boxplot)\n",
    "plt.figure(figsize=(10, 4))\n",
    "\n",
    "plt.subplot(1, 2, 1)\n",
    "sns.histplot(df[variable], kde=True) #hue=target \n",
    "plt.title(f'Histograma {variable}')\n",
    "plt.xlabel(variable)\n",
    "plt.ylabel('Count')\n",
    "plt.legend(title='')\n",
    "\n",
    "# Subgráfico 2: Boxplot\n",
    "plt.subplot(1, 2, 2)\n",
    "sns.boxplot(data=df, x=variable) #, y=\"class\") #, x='Churn'\n",
    "plt.title(f'Boxplot de {variable}')\n",
    "plt.xlabel(f'{variable}')\n",
    "plt.ylabel('')\n",
    "\n",
    "# Mostrar los gráficos\n",
    "plt.tight_layout()\n",
    "plt.show()"
   ]
  },
  {
   "cell_type": "code",
   "execution_count": 30,
   "metadata": {},
   "outputs": [
    {
     "data": {
      "image/png": "[encoded data removed]",
      "text/plain": [
       "<Figure size 1000x400 with 2 Axes>"
      ]
     },
     "metadata": {},
     "output_type": "display_data"
    }
   ],
   "source": [
    "variable = 'totalcharges'\n",
    "#target = 'Churn' # debe ser categorica \n",
    "\n",
    "# Configurar el estilo y el tamaño del gráfico\n",
    "sns.set(style=\"whitegrid\")\n",
    "# Crear una figura con dos subgráficos (histograma y boxplot)\n",
    "plt.figure(figsize=(10, 4))\n",
    "\n",
    "plt.subplot(1, 2, 1)\n",
    "sns.histplot(df[variable], kde=True) #hue=target \n",
    "plt.title(f'Histograma {variable}')\n",
    "plt.xlabel(variable)\n",
    "plt.ylabel('Count')\n",
    "plt.legend(title='')\n",
    "\n",
    "# Subgráfico 2: Boxplot\n",
    "plt.subplot(1, 2, 2)\n",
    "sns.boxplot(data=df, x=variable) #, y=\"class\") #, x='Churn'\n",
    "plt.title(f'Boxplot de {variable}')\n",
    "plt.xlabel(f'{variable}')\n",
    "plt.ylabel('')\n",
    "\n",
    "# Mostrar los gráficos\n",
    "plt.tight_layout()\n",
    "plt.show()"
   ]
  },
  {
   "cell_type": "markdown",
   "metadata": {},
   "source": [
    "### Variables Categóricas"
   ]
  },
  {
   "cell_type": "code",
   "execution_count": 31,
   "metadata": {},
   "outputs": [
    {
     "data": {
      "text/plain": [
       "['customerid',\n",
       " 'gender',\n",
       " 'partner',\n",
       " 'dependents',\n",
       " 'phoneservice',\n",
       " 'multiplelines',\n",
       " 'internetservice',\n",
       " 'onlinesecurity',\n",
       " 'onlinebackup',\n",
       " 'deviceprotection',\n",
       " 'techsupport',\n",
       " 'streamingtv',\n",
       " 'streamingmovies',\n",
       " 'contract',\n",
       " 'paperlessbilling',\n",
       " 'paymentmethod']"
      ]
     },
     "execution_count": 31,
     "metadata": {},
     "output_type": "execute_result"
    }
   ],
   "source": [
    "var_categoricas = list(df.select_dtypes('object'))\n",
    "var_categoricas"
   ]
  }
 ],
 "metadata": {
  "kernelspec": {
   "display_name": "customer_churn-env",
   "language": "python",
   "name": "python3"
  },
  "language_info": {
   "codemirror_mode": {
    "name": "ipython",
    "version": 3
   },
   "file_extension": ".py",
   "mimetype": "text/x-python",
   "name": "python",
   "nbconvert_exporter": "python",
   "pygments_lexer": "ipython3",
   "version": "3.11.0"
  },
  "orig_nbformat": 4,
  "vscode": {
   "interpreter": {
    "hash": "1c6c4e192e0c08f63eb77d0350044ec3a8e8e5d417268a7c35d850c7d9f81068"
   }
  }
 },
 "nbformat": 4,
 "nbformat_minor": 2
}
